{
 "cells": [
  {
   "cell_type": "code",
   "execution_count": 4,
   "id": "6eaaacc6-15dd-42af-a1ea-0f927a9c2efa",
   "metadata": {},
   "outputs": [],
   "source": [
    "import matplotlib.pyplot as plt\n",
    "import numpy as np\n",
    "from ipywidgets import interact\n",
    "import ants"
   ]
  },
  {
   "cell_type": "code",
   "execution_count": 2,
   "id": "6e6ff8ae-f808-4cc2-abb7-d1d38c5a99fc",
   "metadata": {},
   "outputs": [],
   "source": [
    "def interactive_viewer(img):\n",
    "    data = img.numpy() if isinstance(img, ants.ANTsImage) else img\n",
    "    \n",
    "    @interact(\n",
    "        x=(0, data.shape[0]-1),\n",
    "        y=(0, data.shape[1]-1),\n",
    "        z=(0, data.shape[2]-1),\n",
    "        cmap=['gray', 'viridis', 'plasma']\n",
    "    )\n",
    "    def update(x= data.shape[0]//2, \n",
    "              y= data.shape[1]//2,\n",
    "              z= data.shape[2]//2,\n",
    "              cmap='gray'):\n",
    "        fig, axes = plt.subplots(1, 3, figsize=(15,5))\n",
    "        \n",
    "        # 矢状面\n",
    "        axes[0].imshow(data[x, :, :].T, cmap=cmap, origin='lower')\n",
    "        axes[0].set_title(f'Sagittal X={x}')\n",
    "        \n",
    "        # 冠状面\n",
    "        axes[1].imshow(data[:, y, :].T, cmap=cmap, origin='lower')\n",
    "        axes[1].set_title(f'Coronal Y={y}')\n",
    "        \n",
    "        # 横断面\n",
    "        axes[2].imshow(data[:, :, z].T, cmap=cmap, origin='lower')\n",
    "        axes[2].set_title(f'Axial Z={z}')\n",
    "        \n",
    "        for ax in axes:\n",
    "            ax.axis('off')\n",
    "        plt.tight_layout()\n",
    "        plt.show()"
   ]
  },
  {
   "cell_type": "code",
   "execution_count": 5,
   "id": "a6bdfa6b-76dd-4def-98e1-2879a758ac4f",
   "metadata": {},
   "outputs": [
    {
     "data": {
      "application/vnd.jupyter.widget-view+json": {
       "model_id": "03c3da1b970542d9934c97abae4a00ff",
       "version_major": 2,
       "version_minor": 0
      },
      "text/plain": [
       "interactive(children=(IntSlider(value=94, description='x', max=188), IntSlider(value=116, description='y', max…"
      ]
     },
     "metadata": {},
     "output_type": "display_data"
    }
   ],
   "source": [
    "input1 = ants.image_read('NACC_ad/NACC689310_128401136196410312257167952599999698781610665400856042.nii')\n",
    "interactive_viewer(input1)"
   ]
  },
  {
   "cell_type": "code",
   "execution_count": 6,
   "id": "7dd804dc-82b1-47d0-b63e-e9eac1766638",
   "metadata": {},
   "outputs": [
    {
     "data": {
      "application/vnd.jupyter.widget-view+json": {
       "model_id": "c3710f7100f04db4852ca852a8aedf3c",
       "version_major": 2,
       "version_minor": 0
      },
      "text/plain": [
       "interactive(children=(IntSlider(value=94, description='x', max=188), IntSlider(value=116, description='y', max…"
      ]
     },
     "metadata": {},
     "output_type": "display_data"
    }
   ],
   "source": [
    "input1 = ants.image_read('NACC_mci/NACC002453_1284011361963741219779216285217674764346468104749156.nii')\n",
    "interactive_viewer(input1)"
   ]
  },
  {
   "cell_type": "code",
   "execution_count": 7,
   "id": "f97a8570-a7fb-465f-843d-8a3715594aba",
   "metadata": {},
   "outputs": [
    {
     "data": {
      "application/vnd.jupyter.widget-view+json": {
       "model_id": "952a922ca118487da165e591cff044ff",
       "version_major": 2,
       "version_minor": 0
      },
      "text/plain": [
       "interactive(children=(IntSlider(value=94, description='x', max=188), IntSlider(value=116, description='y', max…"
      ]
     },
     "metadata": {},
     "output_type": "display_data"
    }
   ],
   "source": [
    "input1 = ants.image_read('NACC_no/NACC732291_12840113619637414106110100916194395031484531086252054.nii')\n",
    "interactive_viewer(input1)"
   ]
  },
  {
   "cell_type": "code",
   "execution_count": null,
   "id": "11499ae0-fea4-40df-8444-ce00009f1a49",
   "metadata": {},
   "outputs": [],
   "source": []
  }
 ],
 "metadata": {
  "kernelspec": {
   "display_name": "Python 3 (ipykernel)",
   "language": "python",
   "name": "python3"
  },
  "language_info": {
   "codemirror_mode": {
    "name": "ipython",
    "version": 3
   },
   "file_extension": ".py",
   "mimetype": "text/x-python",
   "name": "python",
   "nbconvert_exporter": "python",
   "pygments_lexer": "ipython3",
   "version": "3.12.3"
  }
 },
 "nbformat": 4,
 "nbformat_minor": 5
}
