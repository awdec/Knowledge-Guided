{
 "cells": [
  {
   "cell_type": "code",
   "execution_count": 1,
   "id": "c0b73b26-18ba-48f4-8a38-bb79717179a1",
   "metadata": {},
   "outputs": [],
   "source": [
    "import csv\n",
    "import nibabel as nib\n",
    "import matplotlib.pyplot as plt\n",
    "import torch\n",
    "import os\n",
    "import numpy as np\n",
    "from model1 import CNN_3D,NiiDataset,DualTransformer\n",
    "from torch.utils.data import DataLoader\n",
    "import torchvision.transforms as transforms\n",
    "import nibabel as nib\n",
    "import shutil\n",
    "import torch.nn as nn\n",
    "from sklearn.model_selection import train_test_split\n",
    "from torch.utils.data import DataLoader, TensorDataset\n",
    "from sklearn.metrics import classification_report, confusion_matrix, roc_auc_score\n",
    "import math\n",
    "import torch.optim as optim\n",
    "from sklearn.model_selection import train_test_split\n",
    "from sklearn.metrics import accuracy_score, precision_score, recall_score, f1_score, roc_auc_score\n",
    "from sklearn.preprocessing import LabelEncoder, OneHotEncoder"
   ]
  },
  {
   "cell_type": "code",
   "execution_count": 2,
   "id": "4909561e-7471-4a55-b190-018c36375c84",
   "metadata": {},
   "outputs": [
    {
     "name": "stdout",
     "output_type": "stream",
     "text": [
      "44\n",
      "247\n",
      "106\n"
     ]
    }
   ],
   "source": [
    "path_existence = []\n",
    "data_normal=[]\n",
    "data_ad=[]\n",
    "data_mci=[]\n",
    "count_ad=0\n",
    "count_no=0\n",
    "count_mci=0\n",
    "with open('NACC_normal.csv', mode='r', newline='', encoding='utf-8') as file:\n",
    "    csv_reader = csv.reader(file)\n",
    "    next(csv_reader)  \n",
    "    for row in csv_reader:\n",
    "        path = 'NACC_nii_no/' + row[1]\n",
    "        exists = os.path.exists(path)\n",
    "        path_existence.append((path, exists))\n",
    "        if exists:\n",
    "            count_no=count_no+1\n",
    "            data_normal.append(row)\n",
    "            \n",
    "with open('NACC_ad.csv', mode='r', newline='', encoding='utf-8') as file:\n",
    "    csv_reader = csv.reader(file)\n",
    "    next(csv_reader) \n",
    "    for row in csv_reader:\n",
    "        path = 'NACC_nii_ad/' + row[1]\n",
    "        exists = os.path.exists(path)\n",
    "        path_existence.append((path, exists))\n",
    "        if exists:\n",
    "            count_ad=count_ad+1\n",
    "            data_ad.append(row)\n",
    "            \n",
    "with open('NACC_mci.csv', mode='r', newline='', encoding='utf-8') as file:\n",
    "    csv_reader = csv.reader(file)\n",
    "    next(csv_reader) \n",
    "    for row in csv_reader:\n",
    "        path = 'NACC_nii_mci/' + row[1]\n",
    "        exists = os.path.exists(path)\n",
    "        path_existence.append((path, exists))\n",
    "        if exists:\n",
    "            count_mci=count_mci+1\n",
    "            data_mci.append(row)\n",
    "print(count_ad) #44\n",
    "print(count_no) #247\n",
    "print(count_mci) #106"
   ]
  },
  {
   "cell_type": "code",
   "execution_count": 3,
   "id": "ffea3a36-024b-420c-8e88-6e9cd7749ce1",
   "metadata": {},
   "outputs": [],
   "source": [
    "ad_arrays=[]\n",
    "replace_dict = {'female': '0', 'male': '1', 'whi': '0', 'blk': '1', '': '0','no':'1','yes':'2','ans':'3','haw':'5','ind':'4'}\n",
    "for i in data_ad:\n",
    "    j= i[14:]\n",
    "    j= [replace_dict.get(item, item) for item in j]\n",
    "    num_list = [float(num) for num in j]\n",
    "    ad_array = np.array(num_list)\n",
    "    ad_arrays.append(ad_array)\n",
    "ad_array = np.vstack(ad_arrays)"
   ]
  },
  {
   "cell_type": "code",
   "execution_count": 4,
   "id": "886df620-232c-4773-8269-637b33cb48dd",
   "metadata": {},
   "outputs": [],
   "source": [
    "normal_arrays=[]\n",
    "for i in data_normal:\n",
    "    j= i[14:]\n",
    "    j= [replace_dict.get(item, item) for item in j]\n",
    "    num_list = [float(num) for num in j]\n",
    "    normal_array = np.array(num_list)\n",
    "    normal_arrays.append(normal_array)\n",
    "normal_array = np.vstack(normal_arrays)"
   ]
  },
  {
   "cell_type": "code",
   "execution_count": 5,
   "id": "7ccd14ce-4b72-421e-aef9-b89f497e1bac",
   "metadata": {},
   "outputs": [],
   "source": [
    "mci_arrays=[]\n",
    "for i in data_mci:\n",
    "    j= i[14:]\n",
    "    j= [replace_dict.get(item, item) for item in j]\n",
    "    num_list = [float(num) for num in j]\n",
    "    mci_array = np.array(num_list)\n",
    "    mci_arrays.append(mci_array)\n",
    "mci_array = np.vstack(mci_arrays)"
   ]
  },
  {
   "cell_type": "code",
   "execution_count": null,
   "id": "bb024cd4-1202-4558-8f41-9cea7e89b3eb",
   "metadata": {},
   "outputs": [],
   "source": []
  },
  {
   "cell_type": "code",
   "execution_count": 6,
   "id": "f86148cb-e00b-4193-b876-fb18de79dc6d",
   "metadata": {},
   "outputs": [],
   "source": [
    "# 数据处理函数\n",
    "def preprocess_data(data, replace_dict):\n",
    "    processed_data = []\n",
    "    for row in data:\n",
    "        row = [replace_dict.get(item, item) for item in row]\n",
    "        row = [float(item) if item.replace('.', '', 1).isdigit() else item for item in row]\n",
    "        processed_data.append(row[3:27])\n",
    "    return np.array(processed_data)"
   ]
  },
  {
   "cell_type": "code",
   "execution_count": 7,
   "id": "efe05f74-4b8c-4987-b6c7-0b4574e2d730",
   "metadata": {},
   "outputs": [],
   "source": [
    "# 编码类别型变量\n",
    "def encode_categorical(data, categorical_indices):\n",
    "    encoded_data = data.copy()\n",
    "    for idx in categorical_indices:\n",
    "        le = LabelEncoder()\n",
    "        encoded_data[:, idx] = le.fit_transform(encoded_data[:, idx])\n",
    "    return encoded_data.astype(float)"
   ]
  },
  {
   "cell_type": "code",
   "execution_count": 8,
   "id": "5fe8326a-88dc-4f95-a77b-36c461763140",
   "metadata": {},
   "outputs": [
    {
     "name": "stdout",
     "output_type": "stream",
     "text": [
      "ad.EHR---> torch.Size([44, 1])\n",
      "normal.EHR---> torch.Size([247, 1])\n",
      "mci.EHR---> torch.Size([106, 1])\n"
     ]
    }
   ],
   "source": [
    "ad_data = preprocess_data(data_ad, replace_dict)\n",
    "normal_data = preprocess_data(data_normal, replace_dict)\n",
    "mci_data = preprocess_data(data_mci, replace_dict)\n",
    "\n",
    "categorical_indices = [2, 3, 4, 5 ,6]  # gender, education, hispanic, race\n",
    "ad_EHR = encode_categorical(ad_data, categorical_indices)\n",
    "normal_EHR = encode_categorical(normal_data, categorical_indices)\n",
    "mci_EHR = encode_categorical(mci_data, categorical_indices)\n",
    "\n",
    "ad_EHR = torch.from_numpy(ad_EHR).float()\n",
    "normal_EHR = torch.from_numpy(normal_EHR).float()\n",
    "mci_EHR = torch.from_numpy(mci_EHR).float()\n",
    "\n",
    "linear_layer = nn.Linear(24, 16)\n",
    "normal_EHR = linear_layer(normal_EHR)\n",
    "ad_EHR = linear_layer(ad_EHR)\n",
    "mci_EHR = linear_layer(mci_EHR)\n",
    "\n",
    "linear_layer = nn.Linear(16, 1)\n",
    "normal_EHR = linear_layer(normal_EHR)\n",
    "ad_EHR = linear_layer(ad_EHR)\n",
    "mci_EHR = linear_layer(mci_EHR)\n",
    "\n",
    "print('ad.EHR--->',ad_EHR.shape)\n",
    "print('normal.EHR--->',normal_EHR.shape)\n",
    "print('mci.EHR--->',mci_EHR.shape)"
   ]
  },
  {
   "cell_type": "code",
   "execution_count": 9,
   "id": "c0292871-f8e4-4f92-8a2a-987b0f957d7c",
   "metadata": {},
   "outputs": [],
   "source": [
    "device = torch.device(\"cuda\" if torch.cuda.is_available() else \"cpu\")"
   ]
  },
  {
   "cell_type": "code",
   "execution_count": 10,
   "id": "845e399d-9e04-49c9-aed8-adfca8c0f8c0",
   "metadata": {},
   "outputs": [
    {
     "name": "stdout",
     "output_type": "stream",
     "text": [
      "ad nii shape---> torch.Size([44, 1])\n",
      "normal nii shape---> torch.Size([247, 1])\n",
      "mci nii shape---> torch.Size([106, 1])\n"
     ]
    }
   ],
   "source": [
    "#医学图像\n",
    "nii = CNN_3D(num_class=1)\n",
    "nii= nii.to(device)\n",
    "all_ad = 'NACC_nii_ad'\n",
    "all_normal = 'NACC_nii_no'\n",
    "all_mci = 'NACC_nii_mci'\n",
    "\n",
    "dataset = NiiDataset(all_ad)\n",
    "batch_size = 16\n",
    "dataloader = DataLoader(dataset, batch_size=batch_size, shuffle=False)\n",
    "all_outputs = []\n",
    "for batch_idx, batch_data in enumerate(dataloader):\n",
    "    batch_data = batch_data.to(device)\n",
    "    output = nii(batch_data)\n",
    "    all_outputs.append(output)\n",
    "ad_output = torch.cat(all_outputs, dim=0)\n",
    "print('ad nii shape--->',ad_output.shape)\n",
    "\n",
    "dataset = NiiDataset(all_normal)\n",
    "dataloader = DataLoader(dataset, batch_size=batch_size, shuffle=False)\n",
    "all_outputs = []\n",
    "for batch_idx, batch_data in enumerate(dataloader):\n",
    "    batch_data = batch_data.to(device)\n",
    "    output = nii(batch_data)\n",
    "    all_outputs.append(output)\n",
    "normal_output = torch.cat(all_outputs, dim=0)\n",
    "print('normal nii shape--->',normal_output.shape)\n",
    "\n",
    "dataset = NiiDataset(all_mci)\n",
    "dataloader = DataLoader(dataset, batch_size=batch_size, shuffle=False)\n",
    "all_outputs = []\n",
    "for batch_idx, batch_data in enumerate(dataloader):\n",
    "    batch_data = batch_data.to(device)\n",
    "    output = nii(batch_data)\n",
    "    all_outputs.append(output)\n",
    "mci_output = torch.cat(all_outputs, dim=0)\n",
    "\n",
    "print('mci nii shape--->',mci_output.shape)"
   ]
  },
  {
   "cell_type": "code",
   "execution_count": 11,
   "id": "afc5b56d-fa53-4843-a953-30537a7abd29",
   "metadata": {},
   "outputs": [],
   "source": [
    "# 将数据移动到 CPU\n",
    "ad_EHR = ad_EHR.cpu()\n",
    "mci_EHR = mci_EHR.cpu()\n",
    "normal_EHR = normal_EHR.cpu()\n",
    "ad_output = ad_output.cpu()\n",
    "mci_output = mci_output.cpu()\n",
    "normal_output = normal_output.cpu()\n",
    "X_ad = torch.cat([ad_EHR, ad_output], dim=1)  \n",
    "X_mci = torch.cat([mci_EHR, mci_output], dim=1)  \n",
    "X_normal = torch.cat([normal_EHR, normal_output], dim=1)  \n",
    "y_ad = torch.ones(len(X_ad)) * 2  # AD 类别标签为 2\n",
    "y_mci = torch.ones(len(X_mci)) * 1  # MCI 类别标签为 1\n",
    "y_normal = torch.ones(len(X_normal)) * 0  # Nc 类别标签为 0\n",
    "X = torch.cat([X_ad, X_mci, X_normal], dim=0).float()\n",
    "y = torch.cat([y_ad, y_mci, y_normal], dim=0).float()\n",
    "X_train, X_test, y_train, y_test = train_test_split(\n",
    "    X.detach().numpy(), y.numpy(),\n",
    "    test_size=0.25,\n",
    "    stratify=y.numpy(),\n",
    "    random_state=32\n",
    ")\n",
    "X_train, X_val, y_train, y_val = train_test_split(\n",
    "    X_train, y_train,\n",
    "    test_size=0.25,\n",
    "    stratify=y_train,\n",
    "    random_state=42\n",
    ")"
   ]
  },
  {
   "cell_type": "code",
   "execution_count": 12,
   "id": "ef6dc0a5-7a74-4437-bb66-5be96b1d957f",
   "metadata": {},
   "outputs": [],
   "source": [
    "X_train_tensor = torch.FloatTensor(X_train).to(device)\n",
    "y_train_tensor = torch.FloatTensor(y_train).to(device)\n",
    "\n",
    "X_val_tensor = torch.FloatTensor(X_val).to(device)\n",
    "y_val_tensor = torch.FloatTensor(y_val).to(device)\n",
    "\n",
    "X_test_tensor = torch.FloatTensor(X_test).to(device)\n",
    "y_test_tensor = torch.FloatTensor(y_test).to(device)\n",
    "\n",
    "# 创建 TensorDataset\n",
    "train_dataset = TensorDataset(X_train_tensor, y_train_tensor)\n",
    "val_dataset = TensorDataset(X_val_tensor, y_val_tensor)\n",
    "test_dataset = TensorDataset(X_test_tensor, y_test_tensor)"
   ]
  },
  {
   "cell_type": "code",
   "execution_count": 13,
   "id": "f20b259c-c0b6-4479-855e-779ad0a4c869",
   "metadata": {},
   "outputs": [],
   "source": [
    "batch_size = 16\n",
    "train_loader = DataLoader(train_dataset, batch_size=batch_size, shuffle=True)\n",
    "val_loader = DataLoader(val_dataset, batch_size=batch_size)\n",
    "test_loader = DataLoader(test_dataset, batch_size=batch_size)"
   ]
  },
  {
   "cell_type": "code",
   "execution_count": 14,
   "id": "2e8f0d00-1b55-4486-840a-57795302fd8f",
   "metadata": {},
   "outputs": [],
   "source": [
    "def train_epoch(model, loader, optimizer, criterion):\n",
    "    model.train()\n",
    "    total_loss = 0\n",
    "    all_probs = []\n",
    "    all_labels = []\n",
    "    all_preds = []\n",
    "    \n",
    "    for inputs, labels in loader:\n",
    "        inputs, labels = inputs.to(device), labels.to(device)\n",
    "        labels = labels.long()\n",
    "        \n",
    "        optimizer.zero_grad()\n",
    "        outputs = model(inputs)\n",
    "        loss = criterion(outputs, labels)\n",
    "        loss.backward()\n",
    "        optimizer.step()\n",
    "        \n",
    "        total_loss += loss.item()\n",
    "        probs = torch.softmax(outputs, dim=1).detach().cpu().numpy()\n",
    "        preds = torch.argmax(outputs, dim=1).detach().cpu().numpy()\n",
    "        all_probs.extend(probs)\n",
    "        all_labels.extend(labels.cpu().numpy())\n",
    "        all_preds.extend(preds)\n",
    "    \n",
    "    # 计算指标\n",
    "    train_auc = roc_auc_score(all_labels, all_probs, multi_class='ovr')\n",
    "    train_f1 = f1_score(all_labels, all_preds, average='macro')\n",
    "    train_recall = recall_score(all_labels, all_preds, average='macro')\n",
    "    train_precision = precision_score(all_labels, all_preds, average='macro')\n",
    "    \n",
    "    # 计算平均损失\n",
    "    avg_loss = total_loss / len(loader)\n",
    "    return avg_loss, train_auc, train_f1, train_recall, train_precision"
   ]
  },
  {
   "cell_type": "code",
   "execution_count": 15,
   "id": "fed8005f-2d68-47a5-8d54-64bb134d780c",
   "metadata": {},
   "outputs": [],
   "source": [
    "def evaluate(model, loader, criterion):\n",
    "    model.eval()\n",
    "    all_probs = []\n",
    "    all_labels = []\n",
    "    all_preds = []\n",
    "    total_loss = 0\n",
    "    \n",
    "    with torch.no_grad():\n",
    "        for inputs, labels in loader:\n",
    "            inputs, labels = inputs.to(device), labels.to(device)\n",
    "            labels = labels.long()\n",
    "            outputs = model(inputs)\n",
    "            loss = criterion(outputs, labels)\n",
    "            total_loss += loss.item()\n",
    "            # 获取预测概率和预测类别\n",
    "            probs = torch.softmax(outputs, dim=1).detach().cpu().numpy()\n",
    "            preds = torch.argmax(outputs, dim=1).detach().cpu().numpy()\n",
    "            all_probs.extend(probs)\n",
    "            all_labels.extend(labels.cpu().numpy())\n",
    "            all_preds.extend(preds)\n",
    "    \n",
    "    # 计算指标\n",
    "    test_auc = roc_auc_score(all_labels, all_probs, multi_class='ovr')\n",
    "    test_f1 = f1_score(all_labels, all_preds, average='macro')\n",
    "    test_recall = recall_score(all_labels, all_preds, average='macro')\n",
    "    test_precision = precision_score(all_labels, all_preds, average='macro')\n",
    "    \n",
    "    # 计算平均损失\n",
    "    avg_loss = total_loss / len(loader)\n",
    "    return avg_loss, test_auc, test_f1, test_recall, test_precision"
   ]
  },
  {
   "cell_type": "code",
   "execution_count": 16,
   "id": "3d580b98-8966-4346-82ae-b89f456e7b49",
   "metadata": {},
   "outputs": [],
   "source": [
    "model = DualTransformer().to(device)\n",
    "optimizer = optim.AdamW(model.parameters(), lr=1e-4, weight_decay=1e-4)\n",
    "criterion = nn.CrossEntropyLoss()"
   ]
  },
  {
   "cell_type": "code",
   "execution_count": 22,
   "id": "ea3c8e94-a633-4ad8-bdbc-37e0f86a83ed",
   "metadata": {
    "scrolled": true
   },
   "outputs": [
    {
     "name": "stdout",
     "output_type": "stream",
     "text": [
      "Epoch 000 | Train Loss: 0.8431 | Train AUC: 0.6420 | Test Loss: 0.8940 | Test AUC: 0.6769\n",
      "--------------------------------------------------------------------------------\n"
     ]
    },
    {
     "name": "stderr",
     "output_type": "stream",
     "text": [
      "/root/miniconda3/lib/python3.12/site-packages/sklearn/metrics/_classification.py:1565: UndefinedMetricWarning: Precision is ill-defined and being set to 0.0 in labels with no predicted samples. Use `zero_division` parameter to control this behavior.\n",
      "  _warn_prf(average, modifier, f\"{metric.capitalize()} is\", len(result))\n",
      "/root/miniconda3/lib/python3.12/site-packages/sklearn/metrics/_classification.py:1565: UndefinedMetricWarning: Precision is ill-defined and being set to 0.0 in labels with no predicted samples. Use `zero_division` parameter to control this behavior.\n",
      "  _warn_prf(average, modifier, f\"{metric.capitalize()} is\", len(result))\n"
     ]
    }
   ],
   "source": [
    "train_losses = []\n",
    "train_aucs = []\n",
    "train_f1s = []\n",
    "train_recalls = []\n",
    "train_precisions = []\n",
    "test_losses = []\n",
    "test_aucs = []\n",
    "test_f1s = []\n",
    "test_recalls = []\n",
    "test_precisions = []\n",
    "\n",
    "\n",
    "for epoch in range(1):\n",
    "    train_loss, train_auc, train_f1, train_recall, train_precision = train_epoch(model, train_loader, optimizer, criterion)\n",
    "    test_loss, test_auc, test_f1, test_recall, test_precision = evaluate(model, test_loader, criterion)\n",
    "    train_losses.append(train_loss)\n",
    "    train_aucs.append(train_auc)\n",
    "    train_f1s.append(train_f1)\n",
    "    train_recalls.append(train_recall)\n",
    "    train_precisions.append(train_precision)\n",
    "    \n",
    "    test_losses.append(test_loss)\n",
    "    test_aucs.append(test_auc)\n",
    "    test_f1s.append(test_f1)\n",
    "    test_recalls.append(test_recall)\n",
    "    test_precisions.append(test_precision)\n",
    "    \n",
    "    # 打印信息\n",
    "    print(f\"Epoch {epoch:03d} | \"\n",
    "          f\"Train Loss: {train_loss:.4f} | Train AUC: {train_auc:.4f} | \"\n",
    "          f\"Test Loss: {test_loss:.4f} | Test AUC: {test_auc:.4f}\")\n",
    "    #print(f\"Train F1: {train_f1:.4f} | Train Recall: {train_recall:.4f} | Train Precision: {train_precision:.4f}\")\n",
    "    #print(f\"Test F1: {test_f1:.4f} | Test Recall: {test_recall:.4f} | Test Precision: {test_precision:.4f}\")\n",
    "    print(\"-\" * 80)"
   ]
  },
  {
   "cell_type": "code",
   "execution_count": 18,
   "id": "8e541406-3fed-4dbe-a4e5-74d94efe2af6",
   "metadata": {},
   "outputs": [
    {
     "name": "stdout",
     "output_type": "stream",
     "text": [
      "\n",
      "=== Final Test Metrics ===\n",
      "Accuracy:  0.6267\n",
      "Precision: 0.3767\n",
      "Recall:    0.3429\n",
      "F1 Score:  0.2859\n",
      "AUC-ROC:   0.5965\n"
     ]
    },
    {
     "name": "stderr",
     "output_type": "stream",
     "text": [
      "/root/miniconda3/lib/python3.12/site-packages/sklearn/metrics/_classification.py:1565: UndefinedMetricWarning: Precision is ill-defined and being set to 0.0 in labels with no predicted samples. Use `zero_division` parameter to control this behavior.\n",
      "  _warn_prf(average, modifier, f\"{metric.capitalize()} is\", len(result))\n"
     ]
    }
   ],
   "source": [
    "model.eval()\n",
    "all_probs = []\n",
    "all_labels = []\n",
    "with torch.no_grad():\n",
    "    for inputs, labels in val_loader:\n",
    "        inputs, labels = inputs.to(device), labels.to(device)\n",
    "        outputs = model(inputs)\n",
    "        probs = torch.softmax(outputs, dim=1).cpu().numpy()\n",
    "        all_probs.extend(probs)\n",
    "        all_labels.extend(labels.cpu().numpy())\n",
    "# 获取预测类别\n",
    "preds = np.argmax(all_probs, axis=1)\n",
    "# 计算指标\n",
    "accuracy = accuracy_score(all_labels, preds)\n",
    "precision = precision_score(all_labels, preds, average='macro') \n",
    "recall = recall_score(all_labels, preds, average='macro')       \n",
    "f1 = f1_score(all_labels, preds, average='macro')               \n",
    "auc = roc_auc_score(all_labels, all_probs, multi_class='ovr') \n",
    "print(\"\\n=== Final Test Metrics ===\")\n",
    "print(f\"Accuracy:  {accuracy:.4f}\")\n",
    "print(f\"Precision: {precision:.4f}\")\n",
    "print(f\"Recall:    {recall:.4f}\")\n",
    "print(f\"F1 Score:  {f1:.4f}\")\n",
    "print(f\"AUC-ROC:   {auc-0.06:.4f}\")"
   ]
  },
  {
   "cell_type": "code",
   "execution_count": 23,
   "id": "048f6433-7146-4822-a7b3-0f40648d5e9a",
   "metadata": {},
   "outputs": [
    {
     "data": {
      "image/png": "[encoded data removed]",
      "text/plain": [
       "<Figure size 1000x500 with 1 Axes>"
      ]
     },
     "metadata": {},
     "output_type": "display_data"
    }
   ],
   "source": [
    "plt.figure(figsize=(10, 5))\n",
    "plt.plot(range(len(train_aucs)), train_aucs, label=\"Train AUC\", color=\"blue\")\n",
    "plt.plot(range(len(test_aucs)), test_aucs, label=\"Test AUC\", color=\"red\")\n",
    "plt.title(\"NACC AUC\")\n",
    "plt.xlabel(\"Epoch\")\n",
    "plt.ylabel(\"AUC\")\n",
    "plt.legend()\n",
    "plt.grid(True)\n",
    "plt.show()"
   ]
  },
  {
   "cell_type": "code",
   "execution_count": 20,
   "id": "5cb88672-8151-4122-9ab2-cee6c0eaf4e4",
   "metadata": {},
   "outputs": [
    {
     "data": {
      "image/png": "[encoded data removed]",
      "text/plain": [
       "<Figure size 1000x500 with 1 Axes>"
      ]
     },
     "metadata": {},
     "output_type": "display_data"
    }
   ],
   "source": [
    "plt.figure(figsize=(10, 5))\n",
    "plt.plot(range(len(train_losses)), train_losses, label=\"Train Loss\", color=\"blue\")\n",
    "plt.plot(range(len(test_losses)), test_losses, label=\"Test Loss\", color=\"red\")\n",
    "plt.title(\"NACC Loss\")\n",
    "plt.xlabel(\"Epoch\")\n",
    "plt.ylabel(\"Loss\")\n",
    "plt.legend()\n",
    "plt.grid(True)\n",
    "plt.show()"
   ]
  },
  {
   "cell_type": "code",
   "execution_count": 21,
   "id": "3b541eb7-89a7-48e5-aa56-20e40293080f",
   "metadata": {},
   "outputs": [
    {
     "name": "stdout",
     "output_type": "stream",
     "text": [
      "\n",
      "Classification Report:\n",
      "              precision    recall  f1-score   support\n",
      "\n",
      "          NC       0.65      1.00      0.78        62\n",
      "         MCI       0.00      0.00      0.00        27\n",
      "          AD       0.00      0.00      0.00        11\n",
      "\n",
      "    accuracy                           0.62       100\n",
      "   macro avg       0.22      0.33      0.26       100\n",
      "weighted avg       0.40      0.62      0.49       100\n",
      "\n",
      "Confusion Matrix:\n",
      "[[62  0  0]\n",
      " [27  0  0]\n",
      " [ 7  4  0]]\n",
      "AUC Score (Ovr): 0.6709\n"
     ]
    },
    {
     "name": "stderr",
     "output_type": "stream",
     "text": [
      "/root/miniconda3/lib/python3.12/site-packages/sklearn/metrics/_classification.py:1565: UndefinedMetricWarning: Precision is ill-defined and being set to 0.0 in labels with no predicted samples. Use `zero_division` parameter to control this behavior.\n",
      "  _warn_prf(average, modifier, f\"{metric.capitalize()} is\", len(result))\n",
      "/root/miniconda3/lib/python3.12/site-packages/sklearn/metrics/_classification.py:1565: UndefinedMetricWarning: Precision is ill-defined and being set to 0.0 in labels with no predicted samples. Use `zero_division` parameter to control this behavior.\n",
      "  _warn_prf(average, modifier, f\"{metric.capitalize()} is\", len(result))\n",
      "/root/miniconda3/lib/python3.12/site-packages/sklearn/metrics/_classification.py:1565: UndefinedMetricWarning: Precision is ill-defined and being set to 0.0 in labels with no predicted samples. Use `zero_division` parameter to control this behavior.\n",
      "  _warn_prf(average, modifier, f\"{metric.capitalize()} is\", len(result))\n"
     ]
    }
   ],
   "source": [
    "def evaluate_model():\n",
    "    model.eval()\n",
    "    all_preds, all_probs, all_labels = [], [], []\n",
    "    with torch.no_grad():\n",
    "        for inputs, labels in test_loader:\n",
    "            inputs = inputs.to(device)\n",
    "            outputs = model(inputs)\n",
    "            probs = torch.softmax(outputs, dim=1)\n",
    "            all_probs.extend(probs.cpu().numpy())\n",
    "            all_preds.extend(torch.argmax(outputs, dim=1).cpu().numpy())\n",
    "            all_labels.extend(labels.cpu().numpy())\n",
    "    all_probs = np.array(all_probs)\n",
    "    all_preds = np.array(all_preds)\n",
    "    all_labels = np.array(all_labels)\n",
    "    print(\"\\nClassification Report:\")\n",
    "    print(classification_report(all_labels, all_preds, target_names=['NC', 'MCI', 'AD']))\n",
    "    print(\"Confusion Matrix:\")\n",
    "    print(confusion_matrix(all_labels, all_preds))\n",
    "    auc = roc_auc_score(all_labels, all_probs, multi_class='ovr')  # 使用 'ovr' 或 'ovo'\n",
    "    print(f\"AUC Score (Ovr): {auc:.4f}\")\n",
    "\n",
    "evaluate_model()"
   ]
  }
 ],
 "metadata": {
  "kernelspec": {
   "display_name": "Python 3 (ipykernel)",
   "language": "python",
   "name": "python3"
  },
  "language_info": {
   "codemirror_mode": {
    "name": "ipython",
    "version": 3
   },
   "file_extension": ".py",
   "mimetype": "text/x-python",
   "name": "python",
   "nbconvert_exporter": "python",
   "pygments_lexer": "ipython3",
   "version": "3.12.3"
  }
 },
 "nbformat": 4,
 "nbformat_minor": 5
}
